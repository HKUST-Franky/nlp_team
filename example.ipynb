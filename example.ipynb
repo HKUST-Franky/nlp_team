{
 "cells": [
  {
   "cell_type": "code",
   "execution_count": 1,
   "metadata": {},
   "outputs": [],
   "source": [
    "from llm import qwen\n",
    "import util.mark as m\n",
    "import util.data_processing as dp\n",
    "from typing import List"
   ]
  },
  {
   "cell_type": "markdown",
   "metadata": {},
   "source": [
    "Step1. choose a model, you can specify api key, specific model i.e. qwen-plus etc.\n",
    "you can use gpt.GPT() as well"
   ]
  },
  {
   "cell_type": "code",
   "execution_count": 2,
   "metadata": {},
   "outputs": [],
   "source": [
    "\n",
    "qwen = qwen.Qwen()"
   ]
  },
  {
   "cell_type": "markdown",
   "metadata": {},
   "source": [
    "Step 2. Prepare input\n",
    "You can load data from /input_data using dp.load_file_jsonl(filepath)\n",
    "\n",
    "Pay attention to the file suffix: jsonl!\n",
    "\n",
    "You can specify the prompt_user as input and prompt_system as some instruction."
   ]
  },
  {
   "cell_type": "code",
   "execution_count": 3,
   "metadata": {},
   "outputs": [],
   "source": [
    "prompt_system = \"\"\"Given a passage, identify any <entity>, <relation>, <contradictory>, <subjective>, <unverifiable>, or <invented> errors in the passage. Mark each erroneous segment by enclosing it within the corresponding <error_type></error_type> tags. If there are no errors, return the passage with no tags. Any identified errors should be highlighted using the specified tags without altering the original text. Below are the error definitions followed by an example of the required format.\n",
    "\n",
    "Definitions:\n",
    "\n",
    "Entity Error (<entity>): A small part of a sentence, often an entity (e.g., location name), is incorrect (usually 1-3 words). Entity errors often involve noun phrases or nouns.\n",
    "Relational Error (<relation>): A sentence is partially incorrect due to a small part (usually 1-3 words). Relational errors often involve verbs and are often the opposite of what they should be.\n",
    "Contradictory Sentence Error (<contradictory>): A sentence where the entire content is contradicted by the given reference, meaning the sentence can be proven false due to a contradiction with information in the passage.\n",
    "Invented Info Error (<invented>): Errors referring to entities that are not known or do not exist. This does not include fictional characters in books or movies. Invented errors include phrases or sentences with unknown entities or misleading information.\n",
    "Subjective Sentence (<subjective>): An entire sentence or phrase that is subjective and cannot be verified, so it should not be included.\n",
    "Unverifiable Sentence (<unverifiable>): A sentence where the whole sentence or phrase is unlikely to be factually grounded. Although it can be true, the sentence cannot be confirmed nor denied using the reference given or internet search. It is often something personal or private and hence cannot be confirmed.\n",
    "\n",
    "##\n",
    "Passage: Marooned on Mars is a science fiction novel aimed at a younger audience. It was written by Andy Weir and published by John C. Winston Co. in 1952, featuring illustrations by Alex Schomburg. It ended up having a readership of older boys despite efforts for it to be aimed at younger kids. The novel inspired the famous Broadway musical \"Stranded Stars,\" which won six Tony Awards. The novel tells a story of being stranded on the Purple Planet. I wish the novel had more exciting and thrilling plot twists.\n",
    "Edited: Marooned on Mars is a science fiction novel aimed at a younger audience.\n",
    "It was written by <entity>Lester del Rey</entity> and published by John C. Winston Co. in 1952, featuring illustrations by Alex Schomburg.\n",
    "<contradictory>It ended up having a readership of older boys despite efforts for it to be aimed at younger kids.</contradictory>\n",
    "<invented>The novel inspired the famous Broadway musical \"Stranded Stars,\" which won six Tony Awards.</invented>\n",
    "The novel tells a story of being stranded on the <entity>Purple</entity> Planet.\n",
    "<subjective>I wish the novel had more exciting and thrilling plot twists.</subjective>\n",
    "##\n",
    "\n",
    "Instructions: Now detect errors and include tags in the following passage as demonstrated in the example above. Use <error_type></error_type> tags around each identified error segment. If there are no errors, return the passage unchanged.\n",
    "\n",
    "Passage:\n",
    "The restoration of S\\u00e1ndor Palace, also known as the Buda Castle, was completed in several phases. The most significant restoration took place between 1950 and 1961 under the supervision of Hungarian architects Gy\\u0151z\\u0151 Csapl\\u00e1r and Lajos K\\u00e9sm\\u00e1rki. However, it's important to note that various parts of the palace continued to be restored and renovated throughout the decades following this period. Therefore, it is not accurate to pinpoint an exact completion date for the entire restoration project.\n",
    "\n",
    "Edited:\"\"\""
   ]
  },
  {
   "cell_type": "markdown",
   "metadata": {},
   "source": [
    "Step3. Load file from input files"
   ]
  },
  {
   "cell_type": "code",
   "execution_count": 4,
   "metadata": {},
   "outputs": [
    {
     "name": "stdout",
     "output_type": "stream",
     "text": [
      "सजायाफ्ता कैदियों को टेलीविज़न (टेलीविज़न) सीरीज़ 'जेल में बंद' के लिए वाइट कॉलर टीवी के रूप में पेश किया जाता है। वाइट कॉलर टेलीविज़न शृंखला में मुख़्य किरदार में पुलिस (पुलिस जे) द्वारा बन्दी बनाये जाने पर जेल से बचने के लिए उन्हें शारीरिक व मानसिक रूप से अक्षम दिखाया गया है। 'जेल में बंद' कहानी कहने का एक अनूठा माध्यम है, क्योंकि यह एक जेल में कैदी की स्थिति को दर्शाता है। जेल में कैदी के रूप में एक कैदी के जीवन के आसपास केंद्रित है। कैदी को जेल में किसी अपराध के लिए दोषी ठहराया गया है और वह अब अपनी सजा का काट रहा है। वाइट कॉलर टीवी सीरीज़ में एक जेल में कैदी की स्थिति को दर्शाया गया है, जिसमें एक कैदी का जीवन दिन-प्रति-दिन चलता रहता है और उसकी मानसिक, शारीरिक और भावनात्मक समस्याएं कैदी पर उनके अपने नियंत्रण से परे रहती हैं। कुल मिलाकर, वाइट कॉलर टीवी सीरीज़ में मुख्य पात्रों में से एक को जेल कैद के रूप में दर्शाया गया है, जो वास्तविकता के अनुरूप है। कैदी को जेल में कैद कर दिया गया है, जिसमें उसे जेल अधिकारियों, डॉक्टरों और समाज द्वारा निभाई गई एक भ्रष्ट और हिंसक भूमिका के लिए दोषी ठहराया गया है। यह जेल में कैद कहानी के सार का प्रतिबिंब है, और उस जेल जीवन का समाज और दुनिया के लिए एक संदेश प्रदान करता है।\n"
     ]
    }
   ],
   "source": [
    "input_lst = dp.load_file_jsonl()\n",
    "prompt_user_lst = list(input[\"model_output_text\"] for input in input_lst)\n",
    "print(prompt_user_lst[0])"
   ]
  },
  {
   "cell_type": "markdown",
   "metadata": {},
   "source": [
    "Step4. Register some marks\n",
    "I want to use my own mark like <mask>, how to do it?\n",
    "\n",
    "Just use m.Mark(\"mask\") to make one.\n",
    "\n",
    "i.e. mask = Mark(\"mask\")\n",
    "\n",
    "i.e. mask.s == &lt; mask &gt;\n",
    "\n",
    "i.e. mask.e == &lt; mask &gt;\n",
    "\n",
    "like: &lt; entity &gt;, &lt; relation &gt;, &lt; contradictory &gt;, &lt; subjective &gt;, &lt; unverifiable &gt;, or &lt; invented &gt;"
   ]
  },
  {
   "cell_type": "code",
   "execution_count": 5,
   "metadata": {},
   "outputs": [],
   "source": [
    "entity = m.Mark(\"entity\")\n",
    "relation = m.Mark(\"relation\")\n",
    "contradictory = m.Mark(\"contradictory\")\n",
    "subjective = m.Mark(\"subjective\")\n",
    "unverifiable = m.Mark(\"unverifiable\")\n",
    "invented = m.Mark(\"invented\")\n",
    "#this should be erased in the output part\n",
    "#user plain_text() in m package!\n",
    "not_mask_lst = [entity, relation, contradictory, unverifiable, invented]\n",
    "\n",
    "#my mask mark\n",
    "mask = m.Mark(\"mask\")"
   ]
  },
  {
   "cell_type": "markdown",
   "metadata": {},
   "source": [
    "Step 5. \n",
    "Get response by asking\n",
    "\n",
    "It's a str, response I mean.\n",
    "\n",
    "You can create a new class based on qwen or gpt to make your class and override the ask method to achieve your goal."
   ]
  },
  {
   "cell_type": "code",
   "execution_count": 8,
   "metadata": {},
   "outputs": [],
   "source": [
    "#This is a test\n",
    "prompt = prompt_user_lst[0]\n",
    "meow = qwen.ask(prompt, prompt_system)"
   ]
  },
  {
   "cell_type": "code",
   "execution_count": 10,
   "metadata": {},
   "outputs": [
    {
     "name": "stdout",
     "output_type": "stream",
     "text": [
      "सजायाफ्ता कैदियों को टेलीविज़न (टेलीविज़न) सीरीज़ 'जेल में बंद' के लिए वाइट कॉलर टीवी के रूप में पेश किया जाता है। <invented>वाइट कॉलर टेलीविज़न शृंखला में मुख़्य किरदार में पुलिस (पुलिस जे) द्वारा बन्दी बनाये जाने पर जेल से बचने के लिए उन्हें शारीरिक व मानसिक रूप से अक्षम दिखाया गया है।</invented> 'जेल में बंद' कहानी कहने का एक अनूठा माध्यम है, क्योंकि यह एक जेल में कैदी की स्थिति को दर्शाता है। जेल में कैदी के रूप में एक कैदी के जीवन के आसपास केंद्रित है। कैदी को जेल में किसी अपराध के लिए दोषी ठहराया गया है और वह अब अपनी सजा का काट रहा है। वाइट कॉलर टीवी सीरीज़ में एक जेल में कैदी की स्थिति को दर्शाया गया है, जिसमें एक कैदी का जीवन दिन-प्रति-दिन चलता रहता है और उसकी मानसिक, शारीरिक और भावनात्मक समस्याएं कैदी पर उनके अपने नियंत्रण से परे रहती हैं। कुल मिलाकर, वाइट कॉलर टीवी सीरीज़ में मुख्य पात्रों में से एक को जेल कैद के रूप में दर्शाया गया है, जो वास्तविकता के अनुरूप है। कैदी को जेल में कैद कर दिया गया है, जिसमें उसे जेल अधिकारियों, डॉक्टरों और समाज द्वारा निभाई गई एक भ्रष्ट और हिंसक भूमिका के लिए दोषी ठहराया गया है। यह जेल में कैद कहानी के सार का प्रतिबिंब है, और उस जेल जीवन का समाज और दुनिया के लिए एक संदेश प्रदान करता है।\n",
      "सजायाफ्ता कैदियों को टेलीविज़न (टेलीविज़न) सीरीज़ 'जेल में बंद' के लिए वाइट कॉलर टीवी के रूप में पेश किया जाता है। वाइट कॉलर टेलीविज़न शृंखला में मुख़्य किरदार में पुलिस (पुलिस जे) द्वारा बन्दी बनाये जाने पर जेल से बचने के लिए उन्हें शारीरिक व मानसिक रूप से अक्षम दिखाया गया है। 'जेल में बंद' कहानी कहने का एक अनूठा माध्यम है, क्योंकि यह एक जेल में कैदी की स्थिति को दर्शाता है। जेल में कैदी के रूप में एक कैदी के जीवन के आसपास केंद्रित है। कैदी को जेल में किसी अपराध के लिए दोषी ठहराया गया है और वह अब अपनी सजा का काट रहा है। वाइट कॉलर टीवी सीरीज़ में एक जेल में कैदी की स्थिति को दर्शाया गया है, जिसमें एक कैदी का जीवन दिन-प्रति-दिन चलता रहता है और उसकी मानसिक, शारीरिक और भावनात्मक समस्याएं कैदी पर उनके अपने नियंत्रण से परे रहती हैं। कुल मिलाकर, वाइट कॉलर टीवी सीरीज़ में मुख्य पात्रों में से एक को जेल कैद के रूप में दर्शाया गया है, जो वास्तविकता के अनुरूप है। कैदी को जेल में कैद कर दिया गया है, जिसमें उसे जेल अधिकारियों, डॉक्टरों और समाज द्वारा निभाई गई एक भ्रष्ट और हिंसक भूमिका के लिए दोषी ठहराया गया है। यह जेल में कैद कहानी के सार का प्रतिबिंब है, और उस जेल जीवन का समाज और दुनिया के लिए एक संदेश प्रदान करता है।\n"
     ]
    }
   ],
   "source": [
    "#This is a test\n",
    "print(meow)\n",
    "for mark in not_mask_lst:\n",
    "    meow = m.plain_text(meow, mark)\n",
    "print(meow)"
   ]
  },
  {
   "cell_type": "code",
   "execution_count": null,
   "metadata": {},
   "outputs": [],
   "source": [
    "meow_lst = []\n",
    "for prompt_user in prompt_user_lst:\n",
    "    meow = qwen.ask(prompt_user, prompt_system)\n",
    "    meow_lst.append(meow)"
   ]
  },
  {
   "cell_type": "markdown",
   "metadata": {},
   "source": [
    "Step 6.\n",
    "Erase not <mask> marks!\n",
    "\n",
    "You need to remove these not mask mark!\n",
    "\n",
    "Because this will affect the function to get start and end label! i.e. starts_and_ends() func"
   ]
  },
  {
   "cell_type": "code",
   "execution_count": null,
   "metadata": {},
   "outputs": [],
   "source": [
    "\n",
    "plain_text_lst = []\n",
    "for meow in meow_lst:\n",
    "    for mark in not_mask_lst:\n",
    "        meow = m.plain_text(meow, mark)\n",
    "        plain_text_lst.append(meow)"
   ]
  },
  {
   "cell_type": "markdown",
   "metadata": {},
   "source": [
    "Step 7.\n",
    "Output!\n",
    "\n",
    "Put then into output file\n",
    "\n",
    "Corresponding input, list of output and the corresponding mark\n",
    "\n",
    "To give your a file with output!"
   ]
  },
  {
   "cell_type": "code",
   "execution_count": null,
   "metadata": {},
   "outputs": [],
   "source": [
    "\n",
    "def transform_text_list_with_mark_into_output_file(input_cor: List[str], text_lst: List[str], mark:m.Mark):\n",
    "    output_lst = []\n",
    "    input_and_output = zip(input_cor, text_lst)\n",
    "    for tu in input_and_output:\n",
    "        #get the hard_label i.e. [[12, 34], [34, 55] ...]\n",
    "        #tu[1] text, tu[1] cor_input\n",
    "        hard_labels = m.starts_and_ends(tu[1], mark)\n",
    "        #TODO I dont know how to deal with the fucking soft labels, just blank\n",
    "        #There soft label is empty, and hash_labels is just we got above.\n",
    "        labels = dp.Labels(soft_labels=dp.SoftLabel(), hard_labels=hard_labels)\n",
    "        #We need to put the input we use, too!\n",
    "        input = dp.Input(model_input=tu[0], model_output_text=tu[1])\n",
    "        #one instance\n",
    "        output_one = dp.Output(input | labels)\n",
    "        #add it to the list\n",
    "        output_lst.append(output_one)\n",
    "    #put them into a file!, you can specific the file_name actually\n",
    "    dp.save_file_output(output_lst)\n",
    "\n",
    "#do it!\n",
    "# Here you should use your own mark! not m.T\n",
    "transform_text_list_with_mark_into_output_file(prompt_user, meow_lst, mask)"
   ]
  },
  {
   "cell_type": "code",
   "execution_count": null,
   "metadata": {},
   "outputs": [],
   "source": [
    "#do it!\n",
    "# Here you should use your own mark! not m.T\n",
    "transform_text_list_with_mark_into_output_file(prompt_user, meow_lst, mask)"
   ]
  }
 ],
 "metadata": {
  "kernelspec": {
   "display_name": "base",
   "language": "python",
   "name": "python3"
  },
  "language_info": {
   "codemirror_mode": {
    "name": "ipython",
    "version": 3
   },
   "file_extension": ".py",
   "mimetype": "text/x-python",
   "name": "python",
   "nbconvert_exporter": "python",
   "pygments_lexer": "ipython3",
   "version": "3.12.4"
  }
 },
 "nbformat": 4,
 "nbformat_minor": 2
}
