{
 "cells": [
  {
   "cell_type": "code",
   "execution_count": 1,
   "metadata": {},
   "outputs": [],
   "source": [
    "from llm import qwen\n",
    "import util.mark as m\n",
    "import util.data_processing as dp\n",
    "from typing import List"
   ]
  },
  {
   "cell_type": "markdown",
   "metadata": {},
   "source": [
    "Step1. choose a model, you can specify api key, specific model i.e. qwen-plus etc.\n",
    "you can use gpt.GPT() as well"
   ]
  },
  {
   "cell_type": "code",
   "execution_count": 2,
   "metadata": {},
   "outputs": [],
   "source": [
    "\n",
    "qwen = qwen.Qwen()"
   ]
  },
  {
   "cell_type": "markdown",
   "metadata": {},
   "source": [
    "Step 2. Prepare input\n",
    "You can load data from /input_data using dp.load_file_jsonl(filepath)\n",
    "\n",
    "Pay attention to the file suffix: jsonl!\n",
    "\n",
    "You can specify the prompt_user as input and prompt_system as some instruction."
   ]
  },
  {
   "cell_type": "code",
   "execution_count": 8,
   "metadata": {},
   "outputs": [],
   "source": [
    "prompt_system = \"\"\"Given a passage, identify any entity, relation, contradictory, subjective, unverifiable, or invented errors in the passage. Mark each erroneous segment by enclosing it within the corresponding <error></error> tags. If there are no errors, return the passage with no tags. Any identified errors should be highlighted using the tag <error> without altering the original text. Below are the error definitions of the error types.\n",
    "\n",
    "Definitions:\n",
    "\n",
    "Entity Error: A small part of a sentence, often an entity (e.g., location name), is incorrect (usually 1-3 words). Entity errors often involve noun phrases or nouns.\n",
    "Relational Error: A sentence is partially incorrect due to a small part (usually 1-3 words). Relational errors often involve verbs and are often the opposite of what they should be.\n",
    "Contradictory Sentence Error: A sentence where the entire content is contradicted by the given reference, meaning the sentence can be proven false due to a contradiction with information in the passage.\n",
    "Invented Info Error: Errors referring to entities that are not known or do not exist. This does not include fictional characters in books or movies. Invented errors include phrases or sentences with unknown entities or misleading information.\n",
    "Subjective Sentence: An entire sentence or phrase that is subjective and cannot be verified, so it should not be included.\n",
    "Unverifiable Sentence: A sentence where the whole sentence or phrase is unlikely to be factually grounded. Although it can be true, the sentence cannot be confirmed nor denied using the reference given or internet search. It is often something personal or private and hence cannot be confirmed.\n",
    "\n",
    "##\n",
    "Passage: Marooned on Mars is a science fiction novel aimed at a younger audience. It was written by Andy Weir and published by John C. Winston Co. in 1952, featuring illustrations by Alex Schomburg. It ended up having a readership of older boys despite efforts for it to be aimed at younger kids. The novel inspired the famous Broadway musical \"Stranded Stars,\" which won six Tony Awards. The novel tells a story of being stranded on the Purple Planet. I wish the novel had more exciting and thrilling plot twists.\n",
    "Edited: Marooned on Mars is a science fiction novel aimed at a younger audience.\n",
    "It was written by <error>Lester del Rey</error> and published by John C. Winston Co. in 1952, featuring illustrations by Alex Schomburg.\n",
    "<error>It ended up having a readership of older boys despite efforts for it to be aimed at younger kids.</error>\n",
    "<error>The novel inspired the famous Broadway musical \"Stranded Stars,\" which won six Tony Awards.</error>\n",
    "The novel tells a story of being stranded on the <error>Purple</error> Planet.\n",
    "<error>I wish the novel had more exciting and thrilling plot twists.</error>\n",
    "##\n",
    "\n",
    "Instructions: Now detect errors and include tag in the following passage as demonstrated in the example above. Use <error></error> tags around each identified error segment. If there are no errors, return the passage unchanged. Wait for my input after Passage:\n",
    "\n",
    "Passage:\n",
    "\"\"\""
   ]
  },
  {
   "cell_type": "markdown",
   "metadata": {},
   "source": [
    "Step3. Load file from input files"
   ]
  },
  {
   "cell_type": "code",
   "execution_count": 41,
   "metadata": {},
   "outputs": [
    {
     "name": "stdout",
     "output_type": "stream",
     "text": [
      "Petra van Stoveren won a silver medal in the 2008 Summer Olympics in Beijing, China.\n"
     ]
    }
   ],
   "source": [
    "file_name = \"en\"\n",
    "input_lst = dp.load_file_jsonl(\"./input_data/\" + file_name + \".jsonl\")\n",
    "prompt_user_lst = list(input[\"model_output_text\"] for input in input_lst)\n",
    "print(prompt_user_lst[0])"
   ]
  },
  {
   "cell_type": "markdown",
   "metadata": {},
   "source": [
    "Step4. Register some marks\n",
    "I want to use my own mark like <mask>, how to do it?\n",
    "\n",
    "Just use m.Mark(\"mask\") to make one.\n",
    "\n",
    "i.e. mask = Mark(\"mask\")\n",
    "\n",
    "i.e. mask.s == &lt; mask &gt;\n",
    "\n",
    "i.e. mask.e == &lt;/ mask &gt;\n",
    "\n",
    "like: &lt; entity &gt;, &lt; relation &gt;, &lt; contradictory &gt;, &lt; subjective &gt;, &lt; unverifiable &gt;, or &lt; invented &gt;"
   ]
  },
  {
   "cell_type": "code",
   "execution_count": 10,
   "metadata": {},
   "outputs": [],
   "source": [
    "#entity = m.Mark(\"entity\")\n",
    "#relation = m.Mark(\"relation\")\n",
    "#contradictory = m.Mark(\"contradictory\")\n",
    "#subjective = m.Mark(\"subjective\")\n",
    "#unverifiable = m.Mark(\"unverifiable\")\n",
    "#invented = m.Mark(\"invented\")\n",
    "#this should be erased in the output part\n",
    "#user plain_text() in m package!\n",
    "#not_mask_lst = [entity, relation, contradictory, unverifiable, invented]\n",
    "\n",
    "#my mask mark\n",
    "mask = m.Mark(\"error\")"
   ]
  },
  {
   "cell_type": "markdown",
   "metadata": {},
   "source": [
    "Step 5. \n",
    "Get response by asking\n",
    "\n",
    "It's a str, response I mean.\n",
    "\n",
    "You can create a new class based on qwen or gpt to make your class and override the ask method to achieve your goal."
   ]
  },
  {
   "cell_type": "code",
   "execution_count": 11,
   "metadata": {},
   "outputs": [],
   "source": [
    "#This is a test\n",
    "prompt = prompt_user_lst[0]\n",
    "meow = qwen.ask(prompt, prompt_system)"
   ]
  },
  {
   "cell_type": "code",
   "execution_count": 12,
   "metadata": {},
   "outputs": [
    {
     "name": "stdout",
     "output_type": "stream",
     "text": [
      "<error>Petra van Stoveren</error> won a silver medal in the 2008 Summer Olympics in Beijing, China.\n"
     ]
    }
   ],
   "source": [
    "print(meow)"
   ]
  },
  {
   "cell_type": "code",
   "execution_count": 13,
   "metadata": {},
   "outputs": [],
   "source": [
    "#This is a test\n",
    "#print(meow)\n",
    "#for mark in not_mask_lst:\n",
    "#    meow = m.plain_text(meow, mark)\n",
    "#print(meow)"
   ]
  },
  {
   "cell_type": "code",
   "execution_count": 45,
   "metadata": {},
   "outputs": [],
   "source": [
    "meow_lst = []\n",
    "for prompt_user in prompt_user_lst:\n",
    "    meow = qwen.ask(prompt_user, prompt_system)\n",
    "    meow_lst.append(meow)"
   ]
  },
  {
   "cell_type": "markdown",
   "metadata": {},
   "source": [
    "Step 6.\n",
    "Erase not <mask> marks!\n",
    "\n",
    "You need to remove these not mask mark!\n",
    "\n",
    "Because this will affect the function to get start and end label! i.e. starts_and_ends() func"
   ]
  },
  {
   "cell_type": "code",
   "execution_count": 23,
   "metadata": {},
   "outputs": [],
   "source": [
    "\n",
    "#plain_text_lst = []\n",
    "#for meow in meow_lst:\n",
    "    #for mark in not_mask_lst:\n",
    "        #meow = m.plain_text(meow, mark)\n",
    "    #plain_text_lst.append(meow)"
   ]
  },
  {
   "cell_type": "code",
   "execution_count": 18,
   "metadata": {},
   "outputs": [
    {
     "name": "stdout",
     "output_type": "stream",
     "text": [
      "<error>Petra van Stoveren</error> won a silver medal in the 2008 Summer Olympics in Beijing, China.\n"
     ]
    }
   ],
   "source": [
    "#This is a test\n",
    "print(meow_lst[0])"
   ]
  },
  {
   "cell_type": "markdown",
   "metadata": {},
   "source": [
    "Step 7.\n",
    "Output!\n",
    "\n",
    "Put then into output file\n",
    "\n",
    "Corresponding input, list of output and the corresponding mark\n",
    "\n",
    "To give your a file with output!"
   ]
  },
  {
   "cell_type": "code",
   "execution_count": 32,
   "metadata": {},
   "outputs": [],
   "source": [
    "import util.data_processing as dp\n",
    "from datetime import datetime\n",
    "import random"
   ]
  },
  {
   "cell_type": "code",
   "execution_count": 46,
   "metadata": {},
   "outputs": [
    {
     "name": "stdout",
     "output_type": "stream",
     "text": [
      "['', '(', 'Petra van Stoveren', ')', ' won a silver medal in the 2008 Summer Olympics in Beijing, China.']\n",
      "['', '(', 'The Elysiphale order contains 5 genera.', ')', ' \\n\\n(Note: \"Elysiphale\" is not a recognized order in biological taxonomy, making this statement unverifiable or invented.)']\n",
      "['', '(', 'Yes, all arachnids have antennas.', ')', ' However, not all of them are visible to the naked eye.']\n",
      "['Chance the Rapper debuted in ', '(', '2011', ')', '. \\n\\n(Note: Chance the Rapper\\'s debut mixtape, \"10 Day,\" was released in 2012, not 2011.)']\n",
      "[\"The UN's Sustainable City initiative defines a city as one that is:\\n- Equipped with infrastructure and services to ensure sustainable and equitable access to a range of basic services, such as water, sanitation, and electricity;\\n\", '(', '-.', ')', '']\n",
      "['Zhejing cuisine is known for its unique flavors and cooking techniques. The four main styles are: 1) ', '(', 'Jiangnan', ')', ' style, which is characterized by the use of rice and seafood; 2) ', '(', 'Hangzhou', ')', ' style which uses a lot of vegetables and meat; the 3) ', '(', 'Zhaozhou', ')', ' style that is famous for dishes made with pork; and 4) ', '(', 'Xiamen', ')', ' style dishes that are influenced by Cantonese cuisine.']\n",
      "[\"There are 365 days in a year. So, if today's date is October 13th, then there are only \", '(', '162', ')', ' days left until December 31st.']\n",
      "['The Puncher network that released this TV show is ', '(', 'Netflix', ')', '. \\n\\nNote: Without additional context about the specific TV show being discussed, it\\'s challenging to verify if Netflix is indeed the correct network. However, based on the provided instruction, the assumption is that \"Netflix\" is an error in this context. If you have more details about the TV show, please provide them to ensure accurate tagging.']\n",
      "['As of 2021, the estimated population in the region is around 1.5 million people.']\n",
      "['There are typically ', '(', 'four', ')', ' stages in labour: the early labour stage, the active labour phase, transition, and delivery.']\n",
      "['The merger between ', '(', 'Takera and Toyo Tomo', ')', ' took place in 2005. \\n\\nNote: The names \"Takera\" and \"Toyo Tomo\" seem to be invented or incorrect. If these are not real companies or if the merger did not actually take place, this would be considered an invented info error. However, without additional context or verification, it\\'s difficult to determine if this is an actual error. If you have more information or context, please provide it. Otherwise, I will assume these names are correct based on the given passage. \\n\\nIf you confirm that these company names are indeed incorrect or invented, I will update the tagging accordingly.']\n",
      "['The ', '(', 'Salzberg Red bull Arena', ')', ' is located in Austria. \\n\\nNote: The correct name is \"Red Bull Arena\" and it is located in Salzburg, Austria. Thus, \"Salzberg Red bull Arena\" is an entity error.']\n",
      "['', '(', 'Cillerulo de san Mamé', ')', ' is located in Spain.']\n",
      "['', '(', 'The Bleaching Kansas Civil Confrontations', ')', \" took place in the 1950s and 1960's.\"]\n",
      "['The ', '(', 'white winged cough', ')', ' was first discovered by the English naturalist John Latham in 1770.']\n",
      "['The 26th Biathlon World Championships were held in ', '(', 'Rasnov, Romania', ')', '. The event took place from February 23 to March 5, 2013. Biathlon is a winter sport that combines cross-country skiing and rifle shooting. Competitors race while wearing cross-country skis with rifles carried over their shoulders. They must stop at specific points along the course to shoot targets with their rifles. Failure to hit all the targets within a certain time limit results in penalties, such as additional laps or extra time added to their race.']\n",
      "['The previous name of Gillette Stadium was ', '(', 'Foxboro Stadium', ')', '. It was named after the town where it is located, Foxborough, Massachusetts. The stadium underwent a major renovation and expansion in 2001, during which time it was renamed after Gillette, a leading manufacturer of razors and related products, became the new primary sponsor.']\n",
      "no corresponding close mark!\n",
      "[\" tags need to be added. Here is the passage unchanged:\\n\\nA Graphics Address Redirection Table (GART) is not exactly the same as an Input-Output (I/O) Memory Management Unit (MMU), but they do share some similarities in the sense that they both deal with memory mapping and addressing.\\n\\nA GART is a data structure used by graphics processing units (GPUs) to translate or map the virtual addresses used by the CPU into physical addresses in video memory. This allows the GPU to access data stored in system memory as if it were located in its own local memory, improving performance and reducing the amount of data that needs to be transferred between the CPU and GPU over the bus.\\n\\nOn the other hand, an I/O MMU is a hardware component that manages the memory mapping for I/O devices. It translates virtual addresses used by the CPU into physical addresses in the I/O device's memory space, allowing the CPU to access I/O devices as if they were regular memory. This can help improve system performance and security by hiding the complexities of I/O addressing from the CPU and providing a more consistent memory model for software.\\n\\nSo while both GARTs and I/O MMUs deal with memory mapping and addressing, they serve different purposes in the system. A GART is specifically used to map virtual addresses used by the CPU for graphics operations into physical addresses in video memory, while an I/O MMU maps virtual addresses used by the CPU for I/O operations into physical addresses in the I/O device's memory space.\"]\n",
      "[' Captain Morgan, the brand name for a line of rum produced by Diageo, was first introduced in the United States in ', '(', '1945', ')', \". However, the image of Captain Morgan as a pirate with a parrot on his shoulder did not appear until 1954. The origin of the actual rum blend is not well documented and there is no evidence to suggest that it was invented before the brand's introduction.\"]\n",
      "['Nizhny Tagil is a city located in the Sverdlovsk Oblast (region) of Russia. It is the third-largest city in the region, after Yekaterinburg and ', '(', 'Nizhniy Tagil', ')', '. The city is known for its heavy industry, particularly in metallurgy and machine building.']\n",
      "['Kremlin and Detinets are two distinct historical structures in Russia, although they are closely related and often associated with each other.\\n\\nThe Moscow Kremlin is a historic fortified complex at the heart of Moscow, Russia, which has served as the main residence of the Russian rulers since the 14th century. It includes various palaces, cathedrals, and administrative buildings. The Kremlin is surrounded by thick walls and towers, making it a formidable fortress.\\n\\nDetinets, on the other hand, was the original fortified core of the Moscow Kremlin. It was built in the late 13th century and served as the residence of the Grand Prince of Moscow and his court. Detinets means \"citadel\" or \"fortress\" in Russian. It is a smaller, more compact area within the larger Kremlin complex, which includes the Cathedral Square with its famous cathedrals such as ', '(', \"St. Basil's Cathedral\", ')', ' and the Archangel Michael Cathedral.\\n\\nSo while both structures are fortified complexes and have served residential and administrative functions, the Moscow Kremlin is a larger complex that includes Detinets as one of its parts.']\n",
      "[' Hamilton Academical Football Club plays their home matches at New Douglas Park, which is located in Hamilton, South Lanarkshire, Scotland. The stadium has a capacity of around 6,000 and has been the home ground of Hamilton Academical since ', '(', '1878', ')', ', making it one of the oldest football grounds in the world still in use by a single club.']\n",
      "['The municipality of Delley-Portalban was created on January 1, 2004. It was formed through the merger of two neighboring communes, Delley and Portalban, as part of a wave of municipal consolidations in Switzerland.']\n",
      "['The World Chess Federation, also known as FIDE (Fédération Internationale des Échecs), is not based in any one specific country. It is an international organization with its headquarters currently located in ', '(', 'Minsk, Belarus', ')', '. However, it maintains offices in several countries and holds various events around the world.']\n",
      "['Since the passage you provided is a clarification and does not contain a complete narrative or set of statements that need to be checked for errors, I will assume that you want me to identify any errors within this clarifying statement. Here is the passage with errors tagged if applicable:\\n\\nPassage:\\nI apologize for any confusion, but there seems to be a missing context in your question. Gampel and Bratsch are indeed two municipalities located in the canton of Graubünden in Switzerland. However, they were not merged into one single municipality. They have remained separate entities up until now. Therefore, there is no year to provide as an answer for this question.\\n\\nEdited:\\nI apologize for any confusion, but there seems to be a missing context in your question. Gampel and Bratsch are indeed two municipalities located in the canton of Graubünden in Switzerland. However, they were not merged into one single municipality. They have remained separate entities up until now. Therefore, there is no year to provide as an answer for this question.\\n\\nThere are no errors in this passage.']\n",
      "['The passage does not contain any errors based on the provided definitions. Therefore, the passage remains unchanged:\\n\\nPassage:\\nYes, the Arts and Humanities Citation Index (AHCI) is still maintained and updated by Clarivate Analytics. It is part of the Web of Science Core Collection, which also includes other citation indexes such as the Science Citation Index Expanded and the Social Sciences Citation Index. The AHCI covers a wide range of disciplines in the arts and humanities, including archaeology, area studies, art, classical studies, history, literature, philosophy, religion, and linguistics. It provides access to current and retrospective information from thousands of scholarly journals, conference proceedings, books, and other sources.']\n",
      "['In the television series \"White Collar,\" which aired from 2009 to 2014, there isn\\'t a specific character named as the head of the FBI\\'s White Collar Crimes Unit. However, the main protagonist is Neal Caffrey (played by ', '(', 'Matt Bomer', ')', \"), who is a former white-collar criminal and art forger who works as a consultant for the FBI in solving white-collar crimes. The agent in charge of overseeing Neal's work is Peter Burke (played by Tim DeKay). So, while Peter Burke isn't the head of the White Collar Crimes Unit per se, he plays a significant role in managing and coordinating the investigations.\"]\n",
      "['It is not possible to identify a single physician as the first to treat patients with cerebral palsy, as the condition was likely not recognized as a distinct entity until much later. Cerebral palsy is a group of disorders that affect muscle coordination and movement, often caused by damage to the developing brain before or during birth. The term \"cerebral palsy\" was first used in 1845 by ', '(', 'Dr. John Hinton', ')', ', but it was not until the late 19th and early 20th centuries that the condition began to be better understood and diagnosed. Early treatments for cerebral palsy focused on managing symptoms through physical therapy, orthopedic interventions, and the use of braces or other assistive devices.']\n",
      "['The largest ethnic group in Katsina State, Nigeria, is the Hausa-Fulani people. They make up the vast majority of the population in the state. The Hausa-Fulani are an ethno-linguistic group predominantly found in Northern Nigeria and neighboring countries. They are primarily farmers, traders, and herders.']\n",
      "['Before the Civil War, Valrico, Florida was not a well-known or established settlement. The area around Valrico was originally inhabited by various Native American tribes, including the Seminoles. The first European settlers arrived in the mid-1800s, and the community began to develop after the completion of the Tampa-Hillsborough Railroad in 1885. Therefore, there is no recorded history of Valrico before the Civil War.']\n",
      "['A Western Oriole is a medium-sized bird, with an average length of 15.3 cm (6 inches) and a wingspan of around 20.3 cm (8 inches). They weigh between 19-34 grams (0.7-1.2 ounces). Their bill is long and curved, typically measuring about ', '(', '3.5 cm (1.4 inches)', ')', ' in length.']\n",
      "['No, Windows Neptune was not released. It was an internal project by Microsoft that aimed to merge the user interfaces of Windows XP and Windows Tablet PC Edition into a single operating system. The project was later merged with another project called Windows Longhorn, which eventually became Windows Vista. However, neither Neptune nor Longhorn were released as standalone products; instead, their features were incorporated into Windows Vista, which was released in January 2007.']\n",
      "['No, Chris Claremont did not write the entire \"Days of Future Past\" story on his own. The original X-Men comic book storyline, which was published in issues #141-142 of Uncanny X-Men in 1981, was written by Chris Claremont and illustrated by John Byrne. However, the alternative future sequences were drawn by Terry Austin, and other artists contributed to the later adaptations of this story into other media formats like animation and film. So while Claremont\\'s role is significant, it\\'s important to acknowledge the contributions of other creators involved in bringing \"Days of Future Past\" to life.']\n",
      "['Toruń, also known as Thorn in German, was a member of the Hanseatic League from approximately 1260 until its expulsion in ', '(', '1524', ')', \". The Hanseatic League was a commercial and defensive confederation of merchant guilds and market towns in Northwestern and Central Europe. Toruń's membership in the league contributed significantly to its economic growth during the Middle Ages.\"]\n",
      "['', '(', 'Pposey', ')', ' is located in the state of Indiana.']\n",
      "['', '(', 'FC Zenit-2 Saint Petersburg', ')', '\\n\\nNote: Without additional context, it\\'s unclear whether \"FC Zenit-2 Saint Petersburg\" is an actual entity or not. However, if this is meant to refer to a specific football club, and if there is no such club known by this exact name, it would be considered an invented info error. If you have more context or information, please provide it.']\n",
      "['It seems like you have provided only a single word, \"Häfen,\" which translates to \"harbors\" in German. Since this is not a complete passage, I cannot perform the requested task. Please provide a full passage so I can identify any errors and mark them accordingly.']\n",
      "['The two sides are called the “Sect” and the \"Heretics\".']\n",
      "['', '(', '12 Octobre', ')', ' \\n\\n(Note: \"Octobre\" is the French word for October. If the intended language is English, it should be \"October 12\".)']\n",
      "['The Swedish navy was founded in ', '(', '1625', ')', '. \\n\\n(Note: The actual founding date of the Swedish navy is considered to be 1522, when King Gustav Vasa established a permanent naval force.)']\n",
      "['It seems like you\\'ve provided a name, \"Eduardo Mango,\" but no passage for me to analyze for errors. Could you please provide the full passage you want me to check?']\n",
      "['', '(', 'Dave played the role of Zack in the first season of Scary Movie 5.', ')', ' \\n\\n(Note: \"Scary Movie 5\" is a movie, not a TV series with seasons, so the concept of a \"first season\" is incorrect.)']\n",
      "['A case-control design is a study design where cases are people who have a disease and controls are healthy people. In a typical case control study, the researcher will compare the DNA of people with the disease to the same type of DNA from healthy controls.']\n",
      "['The SakYA TriZIN is a ', '(', 'TIBETAN BUDDHIST MONK', ')', ' who serves as the head of the ', '(', 'SAKYA', ')', ' sect of Tibetan Buddhism. He is also the current head lama of ', '(', 'SakYABooks.com', ')', '']\n",
      "['Jefs Rakins died on March 1, 2011. He was 88 years old.']\n",
      "['The Roman emperor Augustus was born at the city of ', '(', 'Lugudunon', ')', ' in 43 BC.']\n",
      "['Bishofshain was a constituent community in the early Middle Ages. \\n\\n(Note: Since there is no provided reference or additional context, this sentence cannot be verified for accuracy. However, based on the definitions provided, there are no identifiable errors in the given sentence.)']\n",
      "['It seems like you have provided a name, \"Gregory Lahm,\" but no passage to analyze for errors. Could you please provide the full passage?']\n",
      "[' Carl Gustaf Bernhard Lönneber, ', '(', 'Carl-Gustaf L:son Bernh:m', ')', ', was born in Stockholm, Sweden, on March 4, 1786.']\n",
      "['It seems like you have provided only a single word, \"Ponza,\" which is the name of an island located off the coast of Italy. Since this is not a complete passage or sentence, there\\'s nothing to check for errors. Could you please provide a full passage or sentence for me to analyze?']\n",
      "file have been saved to ./output/en20241029_023654381.jsonl\n"
     ]
    }
   ],
   "source": [
    "\n",
    "def transform_text_list_with_mark_into_output_file(input_cor: List[str], text_lst: List[str], mark:m.Mark):\n",
    "    output_lst = []\n",
    "    input_and_output = zip(input_cor, text_lst)\n",
    "    for tu in input_and_output:\n",
    "        #get the hard_label i.e. [[12, 34], [34, 55] ...]\n",
    "        #tu[1] text, tu[1] cor_input\n",
    "        hard_labels = m.starts_and_ends(tu[1], mark)\n",
    "        #TODO I dont know how to deal with the fucking soft labels, just blank\n",
    "        #There soft label is empty, and hash_labels is just we got above.\n",
    "        labels = dp.Labels(soft_labels=dp.SoftLabel(), hard_labels=hard_labels)\n",
    "        #We need to put the input we use, too!\n",
    "        input = dp.Input(model_input=tu[0], model_output_text=tu[1])\n",
    "        #one instance\n",
    "        output_one = dp.Output(input | labels)\n",
    "        #add it to the list\n",
    "        output_lst.append(output_one)\n",
    "    #put them into a file!, you can specific the file_name actually\n",
    "    timestampe = datetime.now().strftime(\"%Y%m%d_%H%M%S\")\n",
    "    dp.save_file_output(output_lst, \"./output/\" + file_name + timestampe + str(random.randint(0, 1000)) + \".jsonl\") \n",
    "\n",
    "#do it!\n",
    "# Here you should use your own mark! not m.T\n",
    "transform_text_list_with_mark_into_output_file(prompt_user_lst, meow_lst, mask)"
   ]
  },
  {
   "cell_type": "code",
   "execution_count": null,
   "metadata": {},
   "outputs": [],
   "source": []
  }
 ],
 "metadata": {
  "kernelspec": {
   "display_name": "base",
   "language": "python",
   "name": "python3"
  },
  "language_info": {
   "codemirror_mode": {
    "name": "ipython",
    "version": 3
   },
   "file_extension": ".py",
   "mimetype": "text/x-python",
   "name": "python",
   "nbconvert_exporter": "python",
   "pygments_lexer": "ipython3",
   "version": "3.12.4"
  }
 },
 "nbformat": 4,
 "nbformat_minor": 2
}
