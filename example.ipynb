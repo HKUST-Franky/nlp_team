{
 "cells": [
  {
   "cell_type": "code",
   "execution_count": 1,
   "metadata": {},
   "outputs": [],
   "source": [
    "from llm import qwen\n",
    "import util.mark as m\n",
    "import util.data_processing as dp\n",
    "from typing import List"
   ]
  },
  {
   "cell_type": "markdown",
   "metadata": {},
   "source": [
    "Step1. choose a model, you can specify api key, specific model i.e. qwen-plus etc.\n",
    "you can use gpt.GPT() as well"
   ]
  },
  {
   "cell_type": "code",
   "execution_count": 2,
   "metadata": {},
   "outputs": [],
   "source": [
    "\n",
    "qwen = qwen.Qwen()"
   ]
  },
  {
   "cell_type": "markdown",
   "metadata": {},
   "source": [
    "Step 2. Prepare input\n",
    "You can load data from /input_data using dp.load_file_jsonl(filepath)\n",
    "\n",
    "Pay attention to the file suffix: jsonl!\n",
    "\n",
    "You can specify the prompt_user as input and prompt_system as some instruction."
   ]
  },
  {
   "cell_type": "code",
   "execution_count": 3,
   "metadata": {},
   "outputs": [],
   "source": [
    "prompt_system = \"\"\"Given a passage, identify any <entity>, <relation>, <contradictory>, <subjective>, <unverifiable>, or <invented> errors in the passage. Mark each erroneous segment by enclosing it within the corresponding <error_type></error_type> tags. If there are no errors, return the passage with no tags. Any identified errors should be highlighted using the specified tags without altering the original text. Below are the error definitions followed by an example of the required format.\n",
    "\n",
    "Definitions:\n",
    "\n",
    "Entity Error (<entity>): A small part of a sentence, often an entity (e.g., location name), is incorrect (usually 1-3 words). Entity errors often involve noun phrases or nouns.\n",
    "Relational Error (<relation>): A sentence is partially incorrect due to a small part (usually 1-3 words). Relational errors often involve verbs and are often the opposite of what they should be.\n",
    "Contradictory Sentence Error (<contradictory>): A sentence where the entire content is contradicted by the given reference, meaning the sentence can be proven false due to a contradiction with information in the passage.\n",
    "Invented Info Error (<invented>): Errors referring to entities that are not known or do not exist. This does not include fictional characters in books or movies. Invented errors include phrases or sentences with unknown entities or misleading information.\n",
    "Subjective Sentence (<subjective>): An entire sentence or phrase that is subjective and cannot be verified, so it should not be included.\n",
    "Unverifiable Sentence (<unverifiable>): A sentence where the whole sentence or phrase is unlikely to be factually grounded. Although it can be true, the sentence cannot be confirmed nor denied using the reference given or internet search. It is often something personal or private and hence cannot be confirmed.\n",
    "\n",
    "##\n",
    "Passage: Marooned on Mars is a science fiction novel aimed at a younger audience. It was written by Andy Weir and published by John C. Winston Co. in 1952, featuring illustrations by Alex Schomburg. It ended up having a readership of older boys despite efforts for it to be aimed at younger kids. The novel inspired the famous Broadway musical \"Stranded Stars,\" which won six Tony Awards. The novel tells a story of being stranded on the Purple Planet. I wish the novel had more exciting and thrilling plot twists.\n",
    "Edited: Marooned on Mars is a science fiction novel aimed at a younger audience.\n",
    "It was written by <entity>Lester del Rey</entity> and published by John C. Winston Co. in 1952, featuring illustrations by Alex Schomburg.\n",
    "<contradictory>It ended up having a readership of older boys despite efforts for it to be aimed at younger kids.</contradictory>\n",
    "<invented>The novel inspired the famous Broadway musical \"Stranded Stars,\" which won six Tony Awards.</invented>\n",
    "The novel tells a story of being stranded on the <entity>Purple</entity> Planet.\n",
    "<subjective>I wish the novel had more exciting and thrilling plot twists.</subjective>\n",
    "##\n",
    "\n",
    "Instructions: Now detect errors and include tags in the following passage as demonstrated in the example above. Use <error_type></error_type> tags around each identified error segment. If there are no errors, return the passage unchanged.\n",
    "\n",
    "Passage:\n",
    "The restoration of S\\u00e1ndor Palace, also known as the Buda Castle, was completed in several phases. The most significant restoration took place between 1950 and 1961 under the supervision of Hungarian architects Gy\\u0151z\\u0151 Csapl\\u00e1r and Lajos K\\u00e9sm\\u00e1rki. However, it's important to note that various parts of the palace continued to be restored and renovated throughout the decades following this period. Therefore, it is not accurate to pinpoint an exact completion date for the entire restoration project.\n",
    "\n",
    "Edited:\"\"\""
   ]
  },
  {
   "cell_type": "markdown",
   "metadata": {},
   "source": [
    "Step3. Load file from input files"
   ]
  },
  {
   "cell_type": "code",
   "execution_count": 4,
   "metadata": {},
   "outputs": [
    {
     "name": "stdout",
     "output_type": "stream",
     "text": [
      "सजायाफ्ता कैदियों को टेलीविज़न (टेलीविज़न) सीरीज़ 'जेल में बंद' के लिए वाइट कॉलर टीवी के रूप में पेश किया जाता है। वाइट कॉलर टेलीविज़न शृंखला में मुख़्य किरदार में पुलिस (पुलिस जे) द्वारा बन्दी बनाये जाने पर जेल से बचने के लिए उन्हें शारीरिक व मानसिक रूप से अक्षम दिखाया गया है। 'जेल में बंद' कहानी कहने का एक अनूठा माध्यम है, क्योंकि यह एक जेल में कैदी की स्थिति को दर्शाता है। जेल में कैदी के रूप में एक कैदी के जीवन के आसपास केंद्रित है। कैदी को जेल में किसी अपराध के लिए दोषी ठहराया गया है और वह अब अपनी सजा का काट रहा है। वाइट कॉलर टीवी सीरीज़ में एक जेल में कैदी की स्थिति को दर्शाया गया है, जिसमें एक कैदी का जीवन दिन-प्रति-दिन चलता रहता है और उसकी मानसिक, शारीरिक और भावनात्मक समस्याएं कैदी पर उनके अपने नियंत्रण से परे रहती हैं। कुल मिलाकर, वाइट कॉलर टीवी सीरीज़ में मुख्य पात्रों में से एक को जेल कैद के रूप में दर्शाया गया है, जो वास्तविकता के अनुरूप है। कैदी को जेल में कैद कर दिया गया है, जिसमें उसे जेल अधिकारियों, डॉक्टरों और समाज द्वारा निभाई गई एक भ्रष्ट और हिंसक भूमिका के लिए दोषी ठहराया गया है। यह जेल में कैद कहानी के सार का प्रतिबिंब है, और उस जेल जीवन का समाज और दुनिया के लिए एक संदेश प्रदान करता है।\n"
     ]
    }
   ],
   "source": [
    "input_lst = dp.load_file_jsonl()\n",
    "prompt_user_lst = list(input[\"model_output_text\"] for input in input_lst)\n",
    "print(prompt_user_lst[0])"
   ]
  },
  {
   "cell_type": "markdown",
   "metadata": {},
   "source": [
    "Step4. Register some marks\n",
    "I want to use my own mark like <mask>, how to do it?\n",
    "\n",
    "Just use m.Mark(\"mask\") to make one.\n",
    "\n",
    "i.e. mask = Mark(\"mask\")\n",
    "\n",
    "i.e. mask.s == &lt; mask &gt;\n",
    "\n",
    "i.e. mask.e == &lt;/ mask &gt;\n",
    "\n",
    "like: &lt; entity &gt;, &lt; relation &gt;, &lt; contradictory &gt;, &lt; subjective &gt;, &lt; unverifiable &gt;, or &lt; invented &gt;"
   ]
  },
  {
   "cell_type": "code",
   "execution_count": 5,
   "metadata": {},
   "outputs": [],
   "source": [
    "entity = m.Mark(\"entity\")\n",
    "relation = m.Mark(\"relation\")\n",
    "contradictory = m.Mark(\"contradictory\")\n",
    "subjective = m.Mark(\"subjective\")\n",
    "unverifiable = m.Mark(\"unverifiable\")\n",
    "invented = m.Mark(\"invented\")\n",
    "#this should be erased in the output part\n",
    "#user plain_text() in m package!\n",
    "not_mask_lst = [entity, relation, contradictory, unverifiable, invented]\n",
    "\n",
    "#my mask mark\n",
    "mask = m.Mark(\"mask\")"
   ]
  },
  {
   "cell_type": "markdown",
   "metadata": {},
   "source": [
    "Step 5. \n",
    "Get response by asking\n",
    "\n",
    "It's a str, response I mean.\n",
    "\n",
    "You can create a new class based on qwen or gpt to make your class and override the ask method to achieve your goal."
   ]
  },
  {
   "cell_type": "code",
   "execution_count": 8,
   "metadata": {},
   "outputs": [],
   "source": [
    "#This is a test\n",
    "prompt = prompt_user_lst[0]\n",
    "meow = qwen.ask(prompt, prompt_system)"
   ]
  },
  {
   "cell_type": "code",
   "execution_count": 19,
   "metadata": {},
   "outputs": [
    {
     "name": "stdout",
     "output_type": "stream",
     "text": [
      "जामनगर का निर्माण १९वीं शताब्दी में ब्रिटिश ईस्ट इंडिया कंपनी द्वारा किया गया था।\n",
      "\n",
      "Note: The errors are marked because Jamnagar was not founded by the British East India Company in the 19th century. Jamnagar was founded in 1540 by Jam Rawal, a member of the Jadeja dynasty.\n",
      "जामनगर का निर्माण १९वीं शताब्दी में ब्रिटिश ईस्ट इंडिया कंपनी द्वारा किया गया था।\n",
      "\n",
      "Note: The errors are marked because Jamnagar was not founded by the British East India Company in the 19th century. Jamnagar was founded in 1540 by Jam Rawal, a member of the Jadeja dynasty.\n"
     ]
    }
   ],
   "source": [
    "#This is a test\n",
    "print(meow)\n",
    "for mark in not_mask_lst:\n",
    "    meow = m.plain_text(meow, mark)\n",
    "print(meow)"
   ]
  },
  {
   "cell_type": "code",
   "execution_count": 11,
   "metadata": {},
   "outputs": [],
   "source": [
    "meow_lst = []\n",
    "for prompt_user in prompt_user_lst:\n",
    "    meow = qwen.ask(prompt_user, prompt_system)\n",
    "    meow_lst.append(meow)"
   ]
  },
  {
   "cell_type": "markdown",
   "metadata": {},
   "source": [
    "Step 6.\n",
    "Erase not <mask> marks!\n",
    "\n",
    "You need to remove these not mask mark!\n",
    "\n",
    "Because this will affect the function to get start and end label! i.e. starts_and_ends() func"
   ]
  },
  {
   "cell_type": "code",
   "execution_count": 23,
   "metadata": {},
   "outputs": [],
   "source": [
    "\n",
    "plain_text_lst = []\n",
    "for meow in meow_lst:\n",
    "    for mark in not_mask_lst:\n",
    "        meow = m.plain_text(meow, mark)\n",
    "    plain_text_lst.append(meow)"
   ]
  },
  {
   "cell_type": "code",
   "execution_count": 26,
   "metadata": {},
   "outputs": [
    {
     "name": "stdout",
     "output_type": "stream",
     "text": [
      "सजायाफ्ता कैदियों को टेलीविज़न (टेलीविज़न) सीरीज़ 'जेल में बंद' के लिए वाइट कॉलर टीवी के रूप में पेश किया जाता है। वाइट कॉलर टेलीविज़न शृंखला में मुख़्य किरदार में पुलिस (पुलिस जे) द्वारा बन्दी बनाये जाने पर जेल से बचने के लिए उन्हें शारीरिक व मानसिक रूप से अक्षम दिखाया गया है। 'जेल में बंद' कहानी कहने का एक अनूठा माध्यम है, क्योंकि यह एक जेल में कैदी की स्थिति को दर्शाता है। जेल में कैदी के रूप में एक कैदी के जीवन के आसपास केंद्रित है। कैदी को जेल में किसी अपराध के लिए दोषी ठहराया गया है और वह अब अपनी सजा का काट रहा है। वाइट कॉलर टीवी सीरीज़ में एक जेल में कैदी की स्थिति को दर्शाया गया है, जिसमें एक कैदी का जीवन दिन-प्रति-दिन चलता रहता है और उसकी मानसिक, शारीरिक और भावनात्मक समस्याएं कैदी पर उनके अपने नियंत्रण से परे रहती हैं। कुल मिलाकर, वाइट कॉलर टीवी सीरीज़ में मुख्य पात्रों में से एक को जेल कैद के रूप में दर्शाया गया है, जो वास्तविकता के अनुरूप है। कैदी को जेल में कैद कर दिया गया है, जिसमें उसे जेल अधिकारियों, डॉक्टरों और समाज द्वारा निभाई गई एक भ्रष्ट और हिंसक भूमिका के लिए दोषी ठहराया गया है। यह जेल में कैद कहानी के सार का प्रतिबिंब है, और उस जेल जीवन का समाज और दुनिया के लिए एक संदेश प्रदान करता है।\n"
     ]
    }
   ],
   "source": [
    "#This is a test\n",
    "print(plain_text_lst[0])"
   ]
  },
  {
   "cell_type": "markdown",
   "metadata": {},
   "source": [
    "Step 7.\n",
    "Output!\n",
    "\n",
    "Put then into output file\n",
    "\n",
    "Corresponding input, list of output and the corresponding mark\n",
    "\n",
    "To give your a file with output!"
   ]
  },
  {
   "cell_type": "code",
   "execution_count": 27,
   "metadata": {},
   "outputs": [
    {
     "name": "stdout",
     "output_type": "stream",
     "text": [
      "[\"सजायाफ्ता कैदियों को टेलीविज़न (टेलीविज़न) सीरीज़ 'जेल में बंद' के लिए वाइट कॉलर टीवी के रूप में पेश किया जाता है। वाइट कॉलर टेलीविज़न शृंखला में मुख़्य किरदार में पुलिस (पुलिस जे) द्वारा बन्दी बनाये जाने पर जेल से बचने के लिए उन्हें शारीरिक व मानसिक रूप से अक्षम दिखाया गया है। 'जेल में बंद' कहानी कहने का एक अनूठा माध्यम है, क्योंकि यह एक जेल में कैदी की स्थिति को दर्शाता है। जेल में कैदी के रूप में एक कैदी के जीवन के आसपास केंद्रित है। कैदी को जेल में किसी अपराध के लिए दोषी ठहराया गया है और वह अब अपनी सजा का काट रहा है। वाइट कॉलर टीवी सीरीज़ में एक जेल में कैदी की स्थिति को दर्शाया गया है, जिसमें एक कैदी का जीवन दिन-प्रति-दिन चलता रहता है और उसकी मानसिक, शारीरिक और भावनात्मक समस्याएं कैदी पर उनके अपने नियंत्रण से परे रहती हैं। कुल मिलाकर, वाइट कॉलर टीवी सीरीज़ में मुख्य पात्रों में से एक को जेल कैद के रूप में दर्शाया गया है, जो वास्तविकता के अनुरूप है। कैदी को जेल में कैद कर दिया गया है, जिसमें उसे जेल अधिकारियों, डॉक्टरों और समाज द्वारा निभाई गई एक भ्रष्ट और हिंसक भूमिका के लिए दोषी ठहराया गया है। यह जेल में कैद कहानी के सार का प्रतिबिंब है, और उस जेल जीवन का समाज और दुनिया के लिए एक संदेश प्रदान करता है।\"]\n",
      "['घलंडिया के पास स्वीडन, कोरिया और मेक्सिको के साथ भूमि विवाद है, जैसा कि २००८ में कोनकेड द्वारा प्रकाशित किया गया था。']\n",
      "['चीन ने मीर अंतरिक्ष स्टेशन का प्रक्षेपण नहीं किया है। मीर अंतरिक्ष स्टेशन का प्रक्षेपण रूस ने किया था।']\n",
      "[\"The provided answer does not address the question about how long after meeting his life partner Dave Franco got married. Additionally, the answer contains an invented piece of information since there is no evidence provided to support the year 1998 for Dave Franco's marriage.\\n\\nEdited:\\nडव फ्रेंक ने 1998 में अपनी पत्नी से शादी की।\"]\n",
      "['The provided passage is in Hindi, and the task requires identifying errors in English passages. Since the passage is not in English, I cannot apply the error tags as requested. Here is the passage unchanged:\\n\\nPassage:\\nसामान्य मानव जन्म में पूरे एक चरण होते हैं ।\\n\\nIf you need an analysis or tagging for Hindi passages, please let me know!']\n",
      "['The passage contains repetitive and redundant information, which makes it difficult to read and understand. However, based on the provided definitions, we can identify specific types of errors. Here is the edited version with appropriate tags:\\n\\n```\\nशृंगिका का उपयोग मुख्य रूप से संगीत में किया जाता है। इसका उपयोग विभिन्न प्रकार के वाद्ययंत्रों जैसे ढोल, तबला, हारमोनियम, वायलिन, बांसुरी आदि के लिए किया जाता है। \\n१. ढोलः ढोल एक वाद्य यंत्र है जिसका उपयोग विभिन्न प्रकार के वाद्ययंत्रों जैसे ढोल, तबला, हारमोनियम, वायलिन, बांसुरी आदि के लिए किया जाता है। \\n२. तबलाः तबला एक वाद्य यंत्र है जिसका उपयोग विभिन्न प्रकार के वाद्ययंत्रों जैसे ढोल, तबला, हारमोनियम, वायलिन, बांसुरी आदि के लिए किया जाता है। \\n३. हारमोनियमः हारमोनियम एक वाद्य यंत्र है जिसका उपयोग विभिन्न प्रकार के वाद्ययंत्रों जैसे ढोल, तबला, हारमोनियम, वायलिन, बांसुरी आदि के लिए किया जाता है। \\n४. वायलिनः वायलिन एक वाद्य यंत्र है जिसका उपयोग विभिन्न प्रकार के वाद्ययंत्रों जैसे ढोल, तबला, हारमोनियम, वायलिन, बांसुरी आदि के लिए किया जाता है। \\n५. बांसुरी एक वाद्य यंत्र है जिसका उपयोग विभिन्न प्रकार के वाद्ययंत्रों जैसे ढोल, तबला, हारमोनियम, वायलिन, बांसुरी आदि के लिए किया जाता है। \\n६. हारमोनियमः हारमोनियम एक वाद्य यंत्र है जिसका उपयोग विभिन्न प्रकार के वाद्ययंत्रों जैसे ढोल, तबला, हारमोनियम, वायलिन, बांसुरी आदि के लिए किया जाता है। \\n७. हारमोनियमः हारमोनियम एक वाद्य यंत्र है जिसका उपयोग विभिन्न प्रकार के वाद्ययंत्रों जैसे ढोल, तबला, हारमोनियम, वायलिन, बांसुरी आदि के लिए किया जाता है। \\n८. हारमोनियमः हारमोनियम एक वाद्य यंत्र है जिसका उपयोग विभिन्न प्रकार के वाद्ययंत्रों जैसे ढोल, तबला, हारमोनियम, वायलिन, बांसुरी आदि के लिए किया जाता है। \\n९. हारमोनियमः हारमोनियम एक वाद्य यंत्र है जिसका उपयोग विभिन्न प्रकार के वाद्ययंत्रों जैसे ढोल, तबला, हारमोनियम, वायलिन, बांसुरी आदि के लिए किया जाता है। \\n१०. हारमोनियमः हारमोनियम एक वाद्य यंत्र है जिसका उपयोग विभिन्न प्रकार के वाद्ययंत्रों जैसे ढोल, तबला, हारमोनियम, वायलिन, बांसुरी आदि के लिए किया जाता है। \\n११. हारमोनियमः हारमोनियम एक वाद्य यंत्र है जिसका उपयोग विभिन्न प्रकार के वाद्ययंत्रों जैसे ढोल, तबला, हारमोनियम, वायलिन, बांसुरी आदि के लिए किया जाता है। \\n१२. हारमोनियमः हारमोनियम एक वाद्य यंत्र है जिसका उपयोग विभिन्न प्रकार के वाद्ययंत्रों जैसे ढोल, तबला, हारमोनियम, वायलिन, बांसुरी आदि के लिए किया जाता है। \\n१३. हारमोनियमः हारमोनियम एक वाद्य यंत्र है जिसका उपयोग विभिन्न प्रकार के वाद्ययंत्रों जैसे ढोल, तबला, हारमोनियम, वायलिन, बांसुरी आदि के लिए किया जाता है। \\n१४. हारमोनियमः हारमोनियम एक वाद्य यंत्र है जिसका उपयोग विभिन्न प्रकार के वाद्ययंत्रों जैसे ढोल, तबला, हारमोनियम, वायलिन, बांसुरी आदि के लिए किया जाता है।\\n```\\n\\nEach instance of the repeated phrase \"ढोल, तबला, हारमोनियम, वायलिन, बांसुरी आदि\" is marked as a relational error because it incorrectly suggests that each instrument is used for all other instruments, which is not accurate.']\n",
      "['प्रमस्तिष्क अंगघात बीमारी को पहली बार १८८२ में जॉन हॉपकिन्स द्वारा पता लगाया गया था। यह बीमारी मस्तिष्क के ऊतकों में रक्तस्राव के कारण होती है, जिसे रक्तस्रावी मस्तिष्कशोथ के रूप में जाना जाता है।']\n",
      "['अल-खोबर में केंद्रीय कृषि विश्वविद्यालय स्थित है।']\n",
      "['मास्को स्थित दुर्ग सफेद ईटो से बनाई गई दीवारों से घिरा हुआ है। मास्को स्थित दुर्ग को ज़हरीली गैस वाले रॉकेट से नष्ट कर दिया गया था。']\n",
      "['The provided passage is in Hindi and contains a statement that seems to mix a medical coding system with an environmental issue, which is incorrect. Here is the corrected version with appropriate error tags:\\n\\nPassage:\\nआईसीडी १० ई ११ का मुख्य कारण पर्यावरणीय क्षरण है।\\n\\nEdited:\\nआईसीडी १० ई ११ का मुख्य कारण पर्यावरणीय क्षरण है।']\n",
      "['The passage provided is in Hindi. To adhere to the instructions, I will first translate the passage to English and then check for any errors.\\n\\nTranslated Passage:\\n\"Posey County is located in Minnesota, United States.\"\\n\\nEdited:\\n<Posey County> is located in Indiana, United States. \\n\\nNote: Posey County is actually located in Indiana, not Minnesota. Therefore, the entity error tag is used to highlight the incorrect state name.']\n",
      "['The provided passage is in Hindi, and it contains some factual and logical issues. Here is the corrected version with appropriate tags:\\n\\nPassage:\\n695 है जूलियन कैलेंडर का वर्ष, जो कि 45वाँ वर्ष है जूलियन कैलेंडर के शुरुआत के बाद से ( anno Domini के शुरुआत के बाद से)।\\n\\nEdited:\\n695 है जूलियन कैलेंडर का वर्ष, जो कि 45वाँ वर्ष है जूलियन कैलेंडर के शुरुआत के बाद से ( anno Domini के शुरुआत के बाद से)।\\n\\nExplanation:\\n- 695: This year is incorrect for the Julian calendar, as the Julian calendar started in 45 BCE, making 695 AD the 740th year of the Julian calendar.\\n- 45वाँ: This is also incorrect because 695 AD is not the 45th year of the Julian calendar.']\n",
      "['माइक्रोसॉफ्ट नेपच्यून २००१ में एक कार्यकारी स्थिति प्राप्त हुई थी ।']\n",
      "['The provided passage is in Hindi. Here is the error detection for the given passage:\\n\\nPassage:\\nब्रूस स्टर्लिंग का जन्म स्कॉटलैंड में हुआ था।\\n\\nEdited:\\nब्रूस स्टर्लिंग का जन्म संयुक्त राज्य अमेरिका में हुआ था।\\n\\nNote: Bruce Sterling, the science fiction author, was born in Dallas, Texas, United States, not Scotland. Therefore, the entity \"स्कॉटलैंड\" is incorrect and should be replaced with \"संयुक्त राज्य अमेरिका.\"']\n",
      "['जॉनी कैश की मृत्यु २००३ में हुई थी. उन्हें उनकी फिल्म \"द मैन हू वुड हैव टू डाई\" में उनकी भूमिका के लिए जाना जाता था।']\n",
      "['टकारा कंपनी लिमिटेड का आधिकारिक समापन १९३९ में हुआ था. यह भारत में एक निजी लिमिटेड कंपनी थी जिसका गठन १९३९ में भारतीय राष्ट्रीय कांग्रेस (आई. एन. सी.) के समर्थन से हुआ था। <redundant>यह भारत में एक निजी लिमिटेड कंपनी थी जिसका गठन १९३९ में भारतीय राष्ट्रीय कांग्रेस (आई. एन. सी.) के समर्थन से हुआ था।</redundant> टकारा कंपनी लिमिटेड का गठन १९३९ में भारतीय राष्ट्रीय कांग्रेस (आई. एन. सी.) के समर्थन से हुआ था और इसका मुख्यालय नई दिल्ली में स्थित था।\\n\\nNote: The `<redundant>` tag is used here to indicate repeated information, but since it is not one of the specified error types, you might consider removing the redundant sentence entirely or leaving it as is if redundancy is not a concern. For the purpose of this exercise, I have left it as is.']\n",
      "['The passage provided is in Hindi, and it contains a historical claim about the death of Raja Sultan. To ensure accuracy, I will analyze the content for potential errors based on the definitions provided.\\n\\nPassage:\\nरजिया सुल्तान का निधन १४ जून, १६१९ को हुआ था ।\\n\\nAnalysis:\\n- **Entity Error**: The date mentioned (14 June 1619) needs to be verified. If this date is incorrect, it would be an entity error.\\n- **Relational Error**: There are no relational errors in this short sentence.\\n- **Contradictory Sentence Error**: There is no contradictory information provided in the passage to contradict this statement.\\n- **Invented Info Error**: The date and the event are specific and can be verified, so it is not an invented info error.\\n- **Subjective Sentence**: The sentence is a factual claim and not subjective.\\n- **Unverifiable Sentence**: The date and the event are specific and can be verified, so it is not an unverifiable sentence.\\n\\nAfter verification, if the date is indeed incorrect, it should be tagged as an entity error. However, without additional context or a reliable source to confirm the date, we cannot definitively tag it as an error. For the purpose of this exercise, I will assume the date is correct unless otherwise proven.\\n\\nSince there are no apparent errors based on the provided definitions and the assumption that the date is correct, the passage remains unchanged.\\n\\nEdited:\\nरजिया सुल्तान का निधन १४ जून, १६१९ को हुआ था ।']\n",
      "['The provided passage is in Hindi, and it contains an entity error regarding the date of the Vienna Convention. Here is the corrected version with the appropriate tags:\\n\\nEdited: वियाना कन्वेन्शन 1879 में हुआ था ।\\n\\nNote: The correct year for the Vienna Convention is 1864, not 1879. However, since the task is to tag the error without altering the text, the year 1879 is tagged as an entity error.']\n",
      "['कोर्डोबा खिलाफत को अलेक्जेंडर सेवेरस द्वितीय ने स्थापित किया था।']\n",
      "['The passage provided is in Hindi. Here is the error detection and tagging for the passage:\\n\\nPassage:\\nइंटरनेशनल शतरंज संघ (इस्को) की स्थापना १८ अप्रैल १९०२ को हुई थी।\\n\\nEdited:\\nइंटरनेशनल शतरंज संघ (इस्को) की स्थापना १५ जून १९२४ को हुई थी।\\n\\nNote: The correct foundation date of the International Chess Federation (FIDE) is June 15, 1924, not April 18, 1902.']\n",
      "['The passage provided is in Hindi. Here is the error detection and tagging for the passage:\\n\\nPassage:\\nजिलेट स्टेडियम में कुल दर्शकों की संख्या लगभग १०,००० है।\\n\\nEdited:\\nजिलेट स्टेडियम में कुल दर्शकों की संख्या लगभग १०,००० है।\\n\\nNote: The capacity of Gillette Stadium is actually much higher, around 65,878 for football games. Therefore, the number 10,000 is incorrect and has been tagged as an entity error.']\n",
      "['दलेर मेंहदी पर १९९८ में एक गायिका को गाली देने और मारपीट करने का आरोप लगाया गया था। उन पर भारतीय दंड संहिता की धारा ३२३, ३२४ और ५०६ के तहत मामला दर्ज किया गया था। उन्हें गिरफ्तार किया गया और जमानत पर रिहा कर दिया गया, लेकिन बाद में उन्हें जमानत दे दी गई। उन्हें बाद में पंजाब और हरियाणा उच्च न्यायालय से जमानत मिल गई।\\n\\nNote: The passage does not contain any obvious errors based on the provided definitions. Therefore, no tags have been added.']\n",
      "['भारत के सबसे बडा साम्राज्य की सीमा का केवल एक क्षेत्र था。\\n\\nNote: The provided sentence is contradictory because it implies that the largest empire in India had only one region, which is not logically possible for an empire to be considered the largest. An empire typically consists of multiple regions or territories. If you have more context or details about the specific empire, please provide them for a more accurate assessment.']\n",
      "['The passage provided is in Hindi. To ensure consistency and accuracy, I will translate it to English and then check for any errors.\\n\\nTranslated Passage:\\nThe first university in Madhya Pradesh was established in 1948.\\n\\nAfter reviewing the translated passage, there are no apparent errors in terms of entity, relation, contradictory, invented, subjective, or unverifiable information. Therefore, the passage remains unchanged.\\n\\nEdited:\\nThe first university in Madhya Pradesh was established in 1948.']\n",
      "['फ़र्रूख़ाबाद जिला कवित्री के लिए जाना जाता है \"सुमित्रा नंदन पंत\"।']\n",
      "['The provided passage is in Hindi and talks about the Nicomachean Ethics. However, the task requires identifying errors in an English passage. Since the provided text does not match the task requirements, I will assume the task is to identify errors in the given Hindi passage. Here is the analysis:\\n\\nPassage:\\nनिकोमेकियन नीतिशास्त्र में तीन उपखण्ड शामिल हैंः\\n\\nThis passage does not contain any identifiable errors based on the provided definitions. Therefore, the passage remains unchanged.\\n\\nEdited:\\nनिकोमेकियन नीतिशास्त्र में तीन उपखण्ड शामिल हैंः']\n",
      "['तुर्फ़ान मे एमीन मीनार (ऊँचाई २८० मी.) की ऊचाई २८० मी. है।\\n\\nNote: The height of the Emin Minaret in Turpan is actually 44 meters, not 280 meters. Therefore, the height mentioned in the passage is incorrect and should be tagged as an entity error.']\n",
      "['फेफड़ों से जुड़े पहली सऊदी अरब के शल्य चिकित्सक डॉ. अब्दुल रहमान अल-असगर द्वारा 1980 में की गई थी।']\n",
      "['इरावती नदी के नाम का रिश्ता भगवान शंकर के पुत्र कार्तिकेय से है ।']\n",
      "['The provided passage is in Hindi, and it does not contain any of the specified errors based on the definitions provided. Therefore, the passage remains unchanged.\\n\\nPassage:\\nबोय़ालमारी उपज़िला में इस्लाम के अनुयाई आबादी लगभग ९ प्रतिशत है।\\n\\nEdited:\\nबोय़ालमारी उपज़िला में इस्लाम के अनुयाई आबादी लगभग ९ प्रतिशत है।']\n",
      "['The provided passage is in Hindi. Here is the passage with the appropriate error tags:\\n\\nसीरियाई ईसाई द्वारा प्रयोग की जाने वाली भाषा अरबी भाषा है।\\n\\nNote: The correct language used by Syrian Christians is typically Syriac or Arabic, but in many contexts, especially in modern times, Arabic is widely used. However, if the context is historical or liturgical, Syriac would be more accurate. Since the specific context is not provided, I have tagged \"अरबी भाषा\" as a potential entity error.']\n",
      "['The provided passage is in Hindi, but the task instructions are in English and expect the passage to be analyzed and tagged for errors in English. I will translate the passage to English and then analyze it for errors.\\n\\nTranslated Passage:\\n\"The hillside is typically situated at an elevation of 100 to 200 meters.\"\\n\\nEdited:\\nThe hillside is typically situated at an elevation of 100 to 200 meters.\\n\\nThere are no errors in this passage, so it remains unchanged.']\n",
      "['जॉन डाल्टन ने अणुजैविकी शब्द का गढन किया था।']\n",
      "['The passage provided is in Hindi. Here is the error detection and tagging for the passage:\\n\\nPassage:\\nमीनाब शहर पाल्क खाड़ी के मुहाने पर स्थित है।\\n\\nEdited:\\nमीनाब शहर पाल्क खाड़ी के मुहाने पर स्थित है।\\n\\nNote: \"पाल्क खाड़ी\" (Palk Strait) is incorrect. The correct location for Mīnāb is at the mouth of the Mīnāb River, not the Palk Strait. The Palk Strait is located between India and Sri Lanka, far from Mīnāb.']\n",
      "['चार्ल्स रोल्फ मैंगेर्स was not the second president of South Africa. The second president of South Africa was F. W. de Klerk, who served from 1989 to 1994. Therefore, the correct passage should be:\\n\\nदक्षिण अफ़्रीका के दूसरे राष्ट्रपति थे F. W. de Klerk। वह 1989 से 1994 तक राष्ट्रपति रहे।\\n\\nHere is the edited passage with the identified error:\\n\\nदक्षिण अफ़्रीका के दूसरे राष्ट्रपति थे चार्ल्स रोल्फ मैंगेर्स। वह 1985 से 1994 तक राष्ट्रपति रहे।']\n",
      "['सैक्रामेंटो किंग्स के मालिक जेरी ब्राउन हैं।']\n",
      "['ला ल्लरोना इटली की राष्ट्रीय फुटबॉल टीम के खिलाडीयो की एक ऐसी टीम है जो विभिन्न देशो में प्रसिद्ध है ।\\n\\nNote: \"ला ल्लरोना\" is not a recognized entity related to the Italian national football team. The correct term might be \"ला सक्सोन\" or \"ला अज़ुर्रा\" (La Squadra Azzurra), which refers to the Italian national football team.']\n",
      "['The passage provided is in Hindi, but the instructions are in English. I will proceed with the error detection and tagging as per the instructions.\\n\\nPassage:\\nThe UEFA Europa League has seen its most successful club win the title 12 times so far.\\n\\nEdited:\\nThe UEFA Europa League has seen its most successful club win the title 12 times so far. \\n\\nNote: The number 12 is incorrect. The most successful club in the UEFA Europa League (formerly known as the UEFA Cup) is Sevilla FC, which has won the title 6 times as of the latest updates. Therefore, the number 12 is an entity error.']\n",
      "['The provided passage is in Hindi. Here is the passage with the identified errors marked:\\n\\nचीन ने २०१६ में \"Tiantan-1\" नामक एक उपग्रह लांच किया था। Tiantan-1 एक संचार उपग्रह है जिसका उद्देश्य चीन के संचार नेटवर्क को सुदृढ़ करना है। यह उपग्रह २०१६ के ९वें माह में लांच किया गया था।\\n\\nNote: \"Tiantan-1\" is marked as an entity error because it appears to be an incorrect name for a satellite launched by China in 2016. The correct name might be different. If \"Tiantan-1\" is indeed the correct name, then this marking can be reconsidered.']\n",
      "['The passage contains an entity error regarding the death date of Johann Sebastian Bach. The correct death date is 28 July 1750, not 27 November 1927.\\n\\nEdited:\\nजर्मन संगीतकार बाख का निधन २७ नवंबर, १९२७ को हुआ था।']\n",
      "['The passage provided is in Hindi, and it does not contain any errors based on the given definitions. Therefore, the passage remains unchanged.\\n\\nEdited:\\nपुस्तक का प्रकाशन १८ फरवरी २०११ को किया गया था।']\n",
      "['The provided passage is in Hindi, but the example and instructions are in English. For consistency, I will convert the Hindi passage to English and then apply the error detection as requested.\\n\\nEnglish translation:\\n\"In 1949, China seized control of the Chengdu city.\"\\n\\nNow, applying the error detection:\\n\\nPassage:\\nIn 1949, China seized control of the Chengdu city.\\n\\nEdited:\\nIn 1949, China seized control of the Chengdu city. \\n\\nNote: The error here is that \"Chengdu\" should not have \"city\" appended to it, as it is already the name of the city. The correct form would be \"In 1949, China seized control of Chengdu.\" However, since the task is to tag errors and not to correct them, I have tagged \"Chengdu city\" as an entity error.']\n",
      "['The passage provided is in Hindi and contains a factual statement about the Indian Constitution. Here is the translation and the error detection:\\n\\nPassage:\\nArticle 324 of the Indian Constitution defines adult franchise.\\n\\nEdited:\\nArticle 324 of the Indian Constitution defines adult franchise.\\n\\nExplanation:\\n- **Invented Info Error ():** Article 324 of the Indian Constitution does not define adult franchise. Instead, it deals with the superintendence, direction, and control of elections. Adult franchise is defined in other parts of the Constitution, particularly in Article 326. Therefore, the statement is incorrect and should be tagged as invented.']\n",
      "['इमरान ख़ान ने पाकिस्तान क्रिकेट टीम के लिए कुल ५ वर्ष खेले हैं।\\n\\nNote: The passage is in Hindi, and it states that Imran Khan played for the Pakistan cricket team for a total of 5 years. This statement is factually incorrect as Imran Khan had a much longer career. However, since the task is to tag errors in the provided passage, and the passage is in Hindi, the error should be tagged accordingly.\\n\\nEdited:\\nइमरान ख़ान ने पाकिस्तान क्रिकेट टीम के लिए कुल ५ वर्ष खेले हैं।']\n",
      "['आर्बोरोफिलिया पक्षियाँ उत्तरी अमेरिका, दक्षिण अमेरिका, ऑस्ट्रेलिया, न्यूजीलैंड, दक्षिण अफ्रीका, भारत, श्रीलंका, बांग्लादेश, नेपाल, भूटान, मालदीव, मॉरीशस, म्यांमार, श्रीलंका, थाईलैंड और वियतनाम जैसे देशों में पाए जाते हैं।\\n\\nNote: The repetition of \"श्रीलंका\" (Sri Lanka) in the list of countries is an error, but since the task specifies to use the provided error types, and none of them specifically address repetition, the passage is returned unchanged. If we were to include a tag for repetition, it would be marked as follows:\\n\\nआर्बोरोफिलिया पक्षियाँ उत्तरी अमेरिका, दक्षिण अमेरिका, ऑस्ट्रेलिया, न्यूजीलैंड, दक्षिण अफ्रीका, भारत, श्रीलंका, बांग्लादेश, नेपाल, भूटान, मालदीव, मॉरीशस, म्यांमार, श्रीलंका, थाईलैंड और वियतनाम जैसे देशों में पाए जाते हैं.']\n",
      "['The provided passage is in Hindi and seems to be discussing probability, but it is not clear and contains some errors. However, since the task is to tag errors in the given passage, I will proceed with the analysis and tagging as requested.\\n\\nPassage:\\nसंभाव्यता उन संख्याओं के मध्य में आता है जिनका योग या घटाव १ होता है ।\\n\\nEdited:\\nसंभाव्यता उन संख्याओं के मध्य में आता है जिनका योग या घटाव १ होता है ।\\n\\nExplanation:\\n- The sentence is vague and unverifiable because it does not clearly define the context or the specific numbers being referred to. Probability typically ranges from 0 to 1, but the statement about the sum or difference being 1 is not a standard or widely accepted definition of probability. Therefore, the entire sentence is marked as .']\n",
      "['The passage provided is in Hindi. Here is the edited version with error detection:\\n\\nPassage:\\nजोधा अकबर फ़िल्म की लागत लगभग १०० करोड़ रुपये थी।\\n\\nEdited:\\nजोधा अकबर फ़िल्म की लागत लगभग १०० करोड़ रुपये थी।\\n\\nExplanation:\\n- The cost of the film \"Jodhaa Akbar\" is stated as approximately 100 crore rupees. This specific figure is unverifiable without a reliable source confirming the exact budget. Therefore, it is marked as .']\n",
      "['The passage provided is in Hindi and states: \"Ghana\\'s flag has 3 colors.\"\\n\\nThis statement is correct. Ghana\\'s flag indeed consists of three horizontal stripes: red, gold (yellow), and green, with a black star in the center of the gold stripe. Since there are no errors in this statement, the passage remains unchanged.\\n\\nEdited:\\nघाना देश के ध्वज में ३ रंग है ।']\n",
      "[\"The provided passage is in Hindi. Here is the passage with the identified errors tagged:\\n\\nPassage:\\nबीटा जिराफ़ तारा की घूर्णन गति लगभाग ०.८ किमी/घंटा (०.९ किमी/घंटा) है।\\n\\nEdited:\\nबीटा जिराफ़ तारा की घूर्णन गति लगभाग ०.८ किमी/घंटा (०.९ किमी/घंटा) है।\\n\\nExplanation:\\n- The speed values provided (0.8 km/h and 0.9 km/h) seem unusual for a star's rotational speed. Typically, stellar rotational speeds are much higher. Therefore, this is marked as an  error.\"]\n",
      "['जामनगर का निर्माण १९वीं शताब्दी में ब्रिटिश ईस्ट इंडिया कंपनी द्वारा किया गया था।\\n\\nNote: The errors are marked because Jamnagar was not founded by the British East India Company in the 19th century. Jamnagar was founded in 1540 by Jam Rawal, a member of the Jadeja dynasty.']\n",
      "file have been saved to ./output/output_20241027_190905_1.jsonl\n"
     ]
    }
   ],
   "source": [
    "\n",
    "def transform_text_list_with_mark_into_output_file(input_cor: List[str], text_lst: List[str], mark:m.Mark):\n",
    "    output_lst = []\n",
    "    input_and_output = zip(input_cor, text_lst)\n",
    "    for tu in input_and_output:\n",
    "        #get the hard_label i.e. [[12, 34], [34, 55] ...]\n",
    "        #tu[1] text, tu[1] cor_input\n",
    "        hard_labels = m.starts_and_ends(tu[1], mark)\n",
    "        #TODO I dont know how to deal with the fucking soft labels, just blank\n",
    "        #There soft label is empty, and hash_labels is just we got above.\n",
    "        labels = dp.Labels(soft_labels=dp.SoftLabel(), hard_labels=hard_labels)\n",
    "        #We need to put the input we use, too!\n",
    "        input = dp.Input(model_input=tu[0], model_output_text=tu[1])\n",
    "        #one instance\n",
    "        output_one = dp.Output(input | labels)\n",
    "        #add it to the list\n",
    "        output_lst.append(output_one)\n",
    "    #put them into a file!, you can specific the file_name actually\n",
    "    dp.save_file_output(output_lst)\n",
    "\n",
    "#do it!\n",
    "# Here you should use your own mark! not m.T\n",
    "transform_text_list_with_mark_into_output_file(prompt_user, plain_text_lst, mask)"
   ]
  },
  {
   "cell_type": "code",
   "execution_count": null,
   "metadata": {},
   "outputs": [],
   "source": []
  }
 ],
 "metadata": {
  "kernelspec": {
   "display_name": "base",
   "language": "python",
   "name": "python3"
  },
  "language_info": {
   "codemirror_mode": {
    "name": "ipython",
    "version": 3
   },
   "file_extension": ".py",
   "mimetype": "text/x-python",
   "name": "python",
   "nbconvert_exporter": "python",
   "pygments_lexer": "ipython3",
   "version": "3.12.4"
  }
 },
 "nbformat": 4,
 "nbformat_minor": 2
}
